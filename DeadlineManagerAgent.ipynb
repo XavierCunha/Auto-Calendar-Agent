{
 "cells": [
  {
   "cell_type": "markdown",
   "metadata": {},
   "source": [
    "# 🧠 Deadline Manager Agent – EY AI Challenge\n",
    "\n",
    "This notebook helps you kickstart your AI solution to process diverse inputs (emails, scanned letters, photos, etc.) and extract or infer deadlines using natural language understanding and legal reasoning.\n",
    "\n",
    "---"
   ]
  },
  {
   "cell_type": "code",
   "execution_count": null,
   "metadata": {},
   "outputs": [],
   "source": [
    "# Install necessary tools for Google Colab\n",
    "!apt-get install -y tesseract-ocr\n",
    "!pip install pytesseract pdf2image python-dateutil holidays dateparser"
   ]
  },
  {
   "cell_type": "code",
   "execution_count": null,
   "metadata": {},
   "outputs": [],
   "source": [
    "# Import packages\n",
    "import pytesseract\n",
    "from PIL import Image\n",
    "import dateparser\n",
    "from dateutil.relativedelta import relativedelta\n",
    "from datetime import datetime\n",
    "import holidays\n",
    "import os"
   ]
  },
  {
   "cell_type": "markdown",
   "metadata": {},
   "source": [
    "## 🖼️ OCR Function (for scanned documents or screenshots)"
   ]
  },
  {
   "cell_type": "code",
   "execution_count": null,
   "metadata": {},
   "outputs": [],
   "source": [
    "def extract_text_from_image(image_path):\n",
    "    image = Image.open(image_path)\n",
    "    text = pytesseract.image_to_string(image, lang='por')\n",
    "    return text"
   ]
  },
  {
   "cell_type": "markdown",
   "metadata": {},
   "source": [
    "## 🧠 Natural Language Date Parsing"
   ]
  },
  {
   "cell_type": "code",
   "execution_count": null,
   "metadata": {},
   "outputs": [],
   "source": [
    "def infer_deadline(text, base_date=datetime.today()):\n",
    "    # Try parsing natural language dates (e.g., '5 working days from now')\n",
    "    inferred_date = dateparser.parse(text, settings={'RELATIVE_BASE': base_date})\n",
    "    return inferred_date"
   ]
  },
  {
   "cell_type": "markdown",
   "metadata": {},
   "source": [
    "## 📅 Portuguese Working Days Calculator"
   ]
  },
  {
   "cell_type": "code",
   "execution_count": null,
   "metadata": {},
   "outputs": [],
   "source": [
    "def add_working_days(start_date, days_to_add):\n",
    "    pt_holidays = holidays.Portugal()\n",
    "    current_date = start_date\n",
    "    added_days = 0\n",
    "    while added_days < days_to_add:\n",
    "        current_date += relativedelta(days=1)\n",
    "        if current_date.weekday() < 5 and current_date not in pt_holidays:\n",
    "            added_days += 1\n",
    "    return current_date"
   ]
  },
  {
   "cell_type": "markdown",
   "metadata": {},
   "source": [
    "## 🧪 Example Usage"
   ]
  },
  {
   "cell_type": "code",
   "execution_count": null,
   "metadata": {},
   "outputs": [],
   "source": [
    "# Example usage:\n",
    "example_text = \"A resposta deverá ser enviada no prazo de cinco dias úteis a contar da data da notificação.\"\n",
    "base_date = datetime(2024, 5, 15)  # Ex: date of the letter\n",
    "print(\"Base date:\", base_date.strftime(\"%Y-%m-%d\"))\n",
    "deadline = add_working_days(base_date, 5)\n",
    "print(\"Inferred deadline:\", deadline.strftime(\"%Y-%m-%d\"))"
   ]
  }
 ],
 "metadata": {
  "colab": {
   "provenance": []
  },
  "kernelspec": {
   "display_name": "Python 3",
   "name": "python3"
  },
  "language_info": {
   "name": "python"
  }
 },
 "nbformat": 4,
 "nbformat_minor": 0
}
