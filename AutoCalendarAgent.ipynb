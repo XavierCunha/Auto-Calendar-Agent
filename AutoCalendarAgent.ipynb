{
 "cells": [
  {
   "cell_type": "markdown",
   "metadata": {},
   "source": [
    "### 🧠 Deadline Manager Agent – EY AI Challenge\n",
    "\n",
    "Modular notebook: OCR, date parsing, working-days, LLM agent para prazos legais e integração opcional de calendário."
   ]
  },
  {
   "cell_type": "code",
   "execution_count": 7,
   "metadata": {},
   "outputs": [
    {
     "name": "stdout",
     "output_type": "stream",
     "text": [
      "Reading package lists... Done\n",
      "E: Could not open lock file /var/lib/apt/lists/lock - open (13: Permission denied)\n",
      "E: Unable to lock directory /var/lib/apt/lists/\n",
      "W: Problem unlinking the file /var/cache/apt/pkgcache.bin - RemoveCaches (13: Permission denied)\n",
      "W: Problem unlinking the file /var/cache/apt/srcpkgcache.bin - RemoveCaches (13: Permission denied)\n",
      "Defaulting to user installation because normal site-packages is not writeable\n",
      "Collecting pytesseract\n",
      "  Downloading pytesseract-0.3.13-py3-none-any.whl (14 kB)\n",
      "Collecting PyPDF2\n",
      "  Downloading pypdf2-3.0.1-py3-none-any.whl (232 kB)\n",
      "\u001b[2K     \u001b[90m━━━━━━━━━━━━━━━━━━━━━━━━━━━━━━━━━━━━━━━\u001b[0m \u001b[32m232.6/232.6 KB\u001b[0m \u001b[31m1.5 MB/s\u001b[0m eta \u001b[36m0:00:00\u001b[0ma \u001b[36m0:00:01\u001b[0m\n",
      "\u001b[?25hRequirement already satisfied: pillow in /home/catarina/.local/lib/python3.10/site-packages (11.0.0)\n",
      "Collecting pillow\n",
      "  Downloading pillow-11.2.1-cp310-cp310-manylinux_2_28_x86_64.whl (4.6 MB)\n",
      "\u001b[2K     \u001b[90m━━━━━━━━━━━━━━━━━━━━━━━━━━━━━━━━━━━━━━━━\u001b[0m \u001b[32m4.6/4.6 MB\u001b[0m \u001b[31m4.3 MB/s\u001b[0m eta \u001b[36m0:00:00\u001b[0m00:01\u001b[0m00:01\u001b[0m\n",
      "\u001b[?25hRequirement already satisfied: dateparser in /home/catarina/.local/lib/python3.10/site-packages (1.2.1)\n",
      "Requirement already satisfied: python-dateutil in /home/catarina/.local/lib/python3.10/site-packages (2.8.2)\n",
      "Collecting python-dateutil\n",
      "  Downloading python_dateutil-2.9.0.post0-py2.py3-none-any.whl (229 kB)\n",
      "\u001b[2K     \u001b[90m━━━━━━━━━━━━━━━━━━━━━━━━━━━━━━━━━━━━━━━\u001b[0m \u001b[32m229.9/229.9 KB\u001b[0m \u001b[31m3.6 MB/s\u001b[0m eta \u001b[36m0:00:00\u001b[0ma \u001b[36m0:00:01\u001b[0m\n",
      "\u001b[?25hRequirement already satisfied: holidays in /home/catarina/.local/lib/python3.10/site-packages (0.73)\n",
      "Collecting transformers\n",
      "  Downloading transformers-4.52.3-py3-none-any.whl (10.5 MB)\n",
      "\u001b[2K     \u001b[90m━━━━━━━━━━━━━━━━━━━━━━━━━━━━━━━━━━━━━━━━\u001b[0m \u001b[32m10.5/10.5 MB\u001b[0m \u001b[31m5.3 MB/s\u001b[0m eta \u001b[36m0:00:00\u001b[0m00:01\u001b[0m00:01\u001b[0m\n",
      "\u001b[?25hCollecting huggingface_hub[hf_xet]\n",
      "  Downloading huggingface_hub-0.32.2-py3-none-any.whl (509 kB)\n",
      "\u001b[2K     \u001b[90m━━━━━━━━━━━━━━━━━━━━━━━━━━━━━━━━━━━━━━━\u001b[0m \u001b[32m510.0/510.0 KB\u001b[0m \u001b[31m5.3 MB/s\u001b[0m eta \u001b[36m0:00:00\u001b[0m00:01\u001b[0m00:01\u001b[0m\n",
      "\u001b[?25hRequirement already satisfied: packaging>=21.3 in /home/catarina/.local/lib/python3.10/site-packages (from pytesseract) (23.1)\n",
      "Requirement already satisfied: tzlocal>=0.2 in /home/catarina/.local/lib/python3.10/site-packages (from dateparser) (5.3.1)\n",
      "Requirement already satisfied: regex!=2019.02.19,!=2021.8.27,>=2015.06.24 in /home/catarina/.local/lib/python3.10/site-packages (from dateparser) (2024.11.6)\n",
      "Requirement already satisfied: pytz>=2024.2 in /home/catarina/.local/lib/python3.10/site-packages (from dateparser) (2025.2)\n",
      "Requirement already satisfied: six>=1.5 in /usr/lib/python3/dist-packages (from python-dateutil) (1.16.0)\n",
      "Collecting safetensors>=0.4.3\n",
      "  Downloading safetensors-0.5.3-cp38-abi3-manylinux_2_17_x86_64.manylinux2014_x86_64.whl (471 kB)\n",
      "\u001b[2K     \u001b[90m━━━━━━━━━━━━━━━━━━━━━━━━━━━━━━━━━━━━━━━\u001b[0m \u001b[32m471.6/471.6 KB\u001b[0m \u001b[31m4.3 MB/s\u001b[0m eta \u001b[36m0:00:00\u001b[0m00:01\u001b[0m00:01\u001b[0m\n",
      "\u001b[?25hRequirement already satisfied: numpy>=1.17 in /home/catarina/.local/lib/python3.10/site-packages (from transformers) (2.1.3)\n",
      "Collecting tokenizers<0.22,>=0.21\n",
      "  Downloading tokenizers-0.21.1-cp39-abi3-manylinux_2_17_x86_64.manylinux2014_x86_64.whl (3.0 MB)\n",
      "\u001b[2K     \u001b[90m━━━━━━━━━━━━━━━━━━━━━━━━━━━━━━━━━━━━━━━━\u001b[0m \u001b[32m3.0/3.0 MB\u001b[0m \u001b[31m5.6 MB/s\u001b[0m eta \u001b[36m0:00:00\u001b[0m00:01\u001b[0m00:01\u001b[0m\n",
      "\u001b[?25hRequirement already satisfied: requests in /home/catarina/.local/lib/python3.10/site-packages (from transformers) (2.31.0)\n",
      "Requirement already satisfied: pyyaml>=5.1 in /usr/lib/python3/dist-packages (from transformers) (5.4.1)\n",
      "Collecting filelock\n",
      "  Downloading filelock-3.18.0-py3-none-any.whl (16 kB)\n",
      "Collecting tqdm>=4.27\n",
      "  Downloading tqdm-4.67.1-py3-none-any.whl (78 kB)\n",
      "\u001b[2K     \u001b[90m━━━━━━━━━━━━━━━━━━━━━━━━━━━━━━━━━━━━━━━━\u001b[0m \u001b[32m78.5/78.5 KB\u001b[0m \u001b[31m3.3 MB/s\u001b[0m eta \u001b[36m0:00:00\u001b[0m\n",
      "\u001b[?25hCollecting hf-xet<2.0.0,>=1.1.2\n",
      "  Downloading hf_xet-1.1.2-cp37-abi3-manylinux_2_17_x86_64.manylinux2014_x86_64.whl (5.2 MB)\n",
      "\u001b[2K     \u001b[90m━━━━━━━━━━━━━━━━━━━━━━━━━━━━━━━━━━━━━━━━\u001b[0m \u001b[32m5.2/5.2 MB\u001b[0m \u001b[31m6.0 MB/s\u001b[0m eta \u001b[36m0:00:00\u001b[0m00:01\u001b[0m00:01\u001b[0mm\n",
      "\u001b[?25hRequirement already satisfied: typing-extensions>=3.7.4.3 in /home/catarina/.local/lib/python3.10/site-packages (from huggingface_hub[hf_xet]) (4.7.1)\n",
      "Collecting fsspec>=2023.5.0\n",
      "  Downloading fsspec-2025.5.1-py3-none-any.whl (199 kB)\n",
      "\u001b[2K     \u001b[90m━━━━━━━━━━━━━━━━━━━━━━━━━━━━━━━━━━━━━━━\u001b[0m \u001b[32m199.1/199.1 KB\u001b[0m \u001b[31m3.4 MB/s\u001b[0m eta \u001b[36m0:00:00\u001b[0ma \u001b[36m0:00:01\u001b[0m\n",
      "\u001b[?25hRequirement already satisfied: idna<4,>=2.5 in /home/catarina/.local/lib/python3.10/site-packages (from requests->transformers) (3.4)\n",
      "Requirement already satisfied: certifi>=2017.4.17 in /home/catarina/.local/lib/python3.10/site-packages (from requests->transformers) (2023.7.22)\n",
      "Requirement already satisfied: urllib3<3,>=1.21.1 in /home/catarina/.local/lib/python3.10/site-packages (from requests->transformers) (2.0.4)\n",
      "Requirement already satisfied: charset-normalizer<4,>=2 in /home/catarina/.local/lib/python3.10/site-packages (from requests->transformers) (3.2.0)\n",
      "Installing collected packages: tqdm, safetensors, python-dateutil, PyPDF2, pillow, hf-xet, fsspec, filelock, pytesseract, huggingface_hub, tokenizers, transformers\n",
      "  Attempting uninstall: python-dateutil\n",
      "    Found existing installation: python-dateutil 2.8.2\n",
      "    Uninstalling python-dateutil-2.8.2:\n",
      "      Successfully uninstalled python-dateutil-2.8.2\n",
      "  Attempting uninstall: pillow\n",
      "    Found existing installation: pillow 11.0.0\n",
      "    Uninstalling pillow-11.0.0:\n",
      "      Successfully uninstalled pillow-11.0.0\n",
      "Successfully installed PyPDF2-3.0.1 filelock-3.18.0 fsspec-2025.5.1 hf-xet-1.1.2 huggingface_hub-0.32.2 pillow-11.2.1 pytesseract-0.3.13 python-dateutil-2.9.0.post0 safetensors-0.5.3 tokenizers-0.21.1 tqdm-4.67.1 transformers-4.52.3\n",
      "Note: you may need to restart the kernel to use updated packages.\n"
     ]
    }
   ],
   "source": [
    "# DEPENDENCIES: Some useful dependencies. Theu might not be necessary.\n",
    "!apt-get update && apt-get install -y tesseract-ocr\n",
    "%pip install --upgrade pytesseract PyPDF2 pillow dateparser python-dateutil holidays transformers huggingface_hub[hf_xet]"
   ]
  },
  {
   "cell_type": "code",
   "execution_count": 8,
   "metadata": {},
   "outputs": [
    {
     "name": "stdout",
     "output_type": "stream",
     "text": [
      "Defaulting to user installation because normal site-packages is not writeable\n",
      "Requirement already satisfied: dateparser in /home/catarina/.local/lib/python3.10/site-packages (1.2.1)\n",
      "Requirement already satisfied: regex!=2019.02.19,!=2021.8.27,>=2015.06.24 in /home/catarina/.local/lib/python3.10/site-packages (from dateparser) (2024.11.6)\n",
      "Requirement already satisfied: tzlocal>=0.2 in /home/catarina/.local/lib/python3.10/site-packages (from dateparser) (5.3.1)\n",
      "Requirement already satisfied: pytz>=2024.2 in /home/catarina/.local/lib/python3.10/site-packages (from dateparser) (2025.2)\n",
      "Requirement already satisfied: python-dateutil>=2.7.0 in /home/catarina/.local/lib/python3.10/site-packages (from dateparser) (2.9.0.post0)\n",
      "Requirement already satisfied: six>=1.5 in /usr/lib/python3/dist-packages (from python-dateutil>=2.7.0->dateparser) (1.16.0)\n",
      "Note: you may need to restart the kernel to use updated packages.\n",
      "Defaulting to user installation because normal site-packages is not writeable\n",
      "Requirement already satisfied: holidays in /home/catarina/.local/lib/python3.10/site-packages (0.73)\n",
      "Requirement already satisfied: python-dateutil in /home/catarina/.local/lib/python3.10/site-packages (from holidays) (2.9.0.post0)\n",
      "Requirement already satisfied: six>=1.5 in /usr/lib/python3/dist-packages (from python-dateutil->holidays) (1.16.0)\n",
      "Note: you may need to restart the kernel to use updated packages.\n"
     ]
    },
    {
     "name": "stderr",
     "output_type": "stream",
     "text": [
      "/home/catarina/.local/lib/python3.10/site-packages/tqdm/auto.py:21: TqdmWarning: IProgress not found. Please update jupyter and ipywidgets. See https://ipywidgets.readthedocs.io/en/stable/user_install.html\n",
      "  from .autonotebook import tqdm as notebook_tqdm\n",
      "None of PyTorch, TensorFlow >= 2.0, or Flax have been found. Models won't be available and only tokenizers, configuration and file/data utilities can be used.\n"
     ]
    }
   ],
   "source": [
    "%pip install dateparser\n",
    "%pip install holidays\n",
    "\n",
    "# IMPORTS: Some useful libraries. They might not be necessary\n",
    "import os\n",
    "from datetime import datetime, timedelta\n",
    "from dateparser.search import search_dates\n",
    "import dateparser\n",
    "from dateutil.relativedelta import relativedelta\n",
    "import holidays\n",
    "import pytesseract\n",
    "from PIL import Image\n",
    "from PyPDF2 import PdfReader\n",
    "from transformers import AutoTokenizer, AutoModelForSeq2SeqLM\n",
    "import json"
   ]
  },
  {
   "cell_type": "code",
   "execution_count": null,
   "metadata": {},
   "outputs": [],
   "source": [
    "# ...existing code...\n",
    "def interpretar_obrigacao_fiscal(texto, ano_base=None):\n",
    "    \"\"\"Extrai mês do texto e retorna prazos fiscais típicos (IRS, TSU, IVA, DMR).\"\"\"\n",
    "    ano_base = ano_base or datetime.now().year\n",
    "    texto = texto.lower()\n",
    "\n",
    "    for mes_nome, mes_num in MESES_PT.items():\n",
    "        if (\n",
    "            f\"processar {mes_nome}\" in texto\n",
    "            or f\"referente a {mes_nome}\" in texto\n",
    "            or f\"dmr de {mes_nome}\" in texto  # NOVO PADRÃO\n",
    "        ):\n",
    "            # Cálculo do mês seguinte\n",
    "            mes_seg = mes_num + 1 if mes_num < 12 else 1\n",
    "            ano_seg = ano_base if mes_num < 12 else ano_base + 1\n",
    "            ano_iva = ano_base if mes_num + 2 <= 12 else ano_base + 1\n",
    "            mes_iva = (mes_num + 2 - 1) % 12 + 1\n",
    "\n",
    "            return {\n",
    "                \"irs\": date(ano_seg, mes_seg, 20),\n",
    "                \"tsu\": date(ano_seg, mes_seg, 20),\n",
    "                \"iva_entrega\": date(ano_iva, mes_iva, 10),\n",
    "                \"iva_pagamento\": date(ano_iva, mes_iva, 15),\n",
    "                \"mes_base\": mes_nome\n",
    "            }\n",
    "    return None\n",
    "# ...existing code..."
   ]
  },
  {
   "cell_type": "markdown",
   "metadata": {},
   "source": [
    "### 🖼️ OCR & PDF Extraction\n",
    "Functions to read text in images (Tesseract) and PDFs."
   ]
  },
  {
   "cell_type": "code",
   "execution_count": 2,
   "metadata": {},
   "outputs": [],
   "source": [
    "def extract_text_from_image(path):\n",
    "    \"\"\"Base da extração de texto a partir de uma imagem (em português).\"\"\"\n",
    "    return pytesseract.image_to_string(Image.open(path), lang='por')\n",
    "\n",
    "def extract_text_from_pdf(path):\n",
    "    \"\"\"Base da extração de texto de todas as páginas de um PDF.\"\"\"\n",
    "    rdr = PdfReader(path)\n",
    "    return \"\\n\".join(page.extract_text() or \"\" for page in rdr.pages)"
   ]
  },
  {
   "cell_type": "markdown",
   "metadata": {},
   "source": [
    "### 🧠 Data extraction (NLU)\n",
    "Extract the first future date from a free text like `dateparser.search.search_dates`."
   ]
  },
  {
   "cell_type": "code",
   "execution_count": 3,
   "metadata": {},
   "outputs": [],
   "source": [
    "def infer_deadline(text, base_date=None):\n",
    "    \"\"\"Base da identificação de uam data a partir de uma imagem.\"\"\"\n",
    "    base = base_date or datetime.now()\n",
    "    res = search_dates(\n",
    "        text,\n",
    "        languages=['pt','en'],\n",
    "        settings={\n",
    "            'PREFER_DATES_FROM':'future',\n",
    "            'RELATIVE_BASE':base,\n",
    "            'DATE_ORDER':'DMY'\n",
    "        }\n",
    "    )\n",
    "    return res[0][1] if res else None"
   ]
  },
  {
   "cell_type": "markdown",
   "metadata": {},
   "source": [
    "### 📅 Work days calculation (PT)\n",
    "Add work days to a date, excluding weekends and Portuguese holidays."
   ]
  },
  {
   "cell_type": "code",
   "execution_count": null,
   "metadata": {},
   "outputs": [],
   "source": [
    "def add_working_days(start_date, days):\n",
    "    \"\"\"Base de unção auxiliar para somar dias úteis a uma data, gerir férias judiciais, etc.\"\"\"\n",
    "    pt_hols = holidays.Portugal()\n",
    "    curr = start_date\n",
    "    added = 0\n",
    "    while added < days:\n",
    "        curr += relativedelta(days=1)\n",
    "        if curr.weekday() < 5 and curr not in pt_hols:\n",
    "            added += 1\n",
    "    return curr"
   ]
  },
  {
   "cell_type": "markdown",
   "metadata": {},
   "source": [
    "### 📅 Lógica fiscal (PT)\n",
    "Fiscal rules that may appear."
   ]
  },
  {
   "cell_type": "code",
   "execution_count": null,
   "metadata": {},
   "outputs": [],
   "source": [
    "def normalize_abbreviations(text):\n",
    "    \"\"\"Expands common fiscal abbreviations to facilitate LLM understanding.\"\"\"\n",
    "    substitutions = {\n",
    "        \"dmr\": \"declaração mensal de remunerações\",\n",
    "        \"iva\": \"imposto sobre o valor acrescentado\",\n",
    "        \"irs\": \"imposto sobre o rendimento das pessoas singulares\",\n",
    "        \"ies\": \"informação empresarial simplificada\",\n",
    "        \"tsu\": \"taxa social única\"\n",
    "    }\n",
    "    for abbr, full in substitutions.items():\n",
    "        text = re.sub(rf\"\\b{abbr}\\b\", full, text, flags=re.IGNORECASE)\n",
    "    return text\n",
    "\n",
    "def interpret_fiscal_obligation(text, base_year=None):\n",
    "    \"\"\"Extracts month from text and returns typical fiscal deadlines (IRS, TSU, IVA, DMR).\"\"\"\n",
    "    base_year = base_year or datetime.now().year\n",
    "    text = text.lower()\n",
    "\n",
    "    for month_name, month_num in MESES_PT.items():\n",
    "        patterns = [\n",
    "            f\"processar {month_name}\",\n",
    "            f\"referente a {month_name}\",\n",
    "            f\"dmr de {month_name}\",\n",
    "            f\"entregar dmr de {month_name}\",\n",
    "            f\"submeter dmr de {month_name}\",\n",
    "            f\"pagamento do dmr de {month_name}\",\n",
    "            f\"declaração de dmr do mês de {month_name}\",\n",
    "            f\"envio da dmr de {month_name}\",\n",
    "            f\"apresentação da dmr de {month_name}\",\n",
    "            f\"prazo para dmr de {month_name}\",\n",
    "            f\"liquidação do dmr de {month_name}\",\n",
    "            f\"preencher dmr de {month_name}\",\n",
    "        ]\n",
    "        if any(p in text for p in patterns):\n",
    "            # Next month calculation\n",
    "            next_month = month_num + 1 if month_num < 12 else 1\n",
    "            next_year = base_year if month_num < 12 else base_year + 1\n",
    "            iva_year = base_year if month_num + 2 <= 12 else base_year + 1\n",
    "            iva_month = (month_num + 2 - 1) % 12 + 1\n",
    "\n",
    "            return {\n",
    "                \"irs\": date(next_year, next_month, 20),\n",
    "                \"tsu\": date(next_year, next_month, 20),\n",
    "                \"iva_entrega\": date(iva_year, iva_month, 10),\n",
    "                \"iva_pagamento\": date(iva_year, iva_month, 15),\n",
    "                \"mes_base\": month_name\n",
    "            }\n",
    "    return None"
   ]
  },
  {
   "cell_type": "markdown",
   "metadata": {},
   "source": [
    "### 🤖 Deadline Agent (LLM Free)\n",
    "One type of open-source model (Flan-T5 small) to apply the following rules:\n",
    "- Modelo 22: up to 31/jul\n",
    "- IES: 15/apr (current and next year)\n",
    "- Others: infer via NLP"
   ]
  },
  {
   "cell_type": "code",
   "execution_count": 11,
   "metadata": {},
   "outputs": [
    {
     "name": "stdout",
     "output_type": "stream",
     "text": [
      "Defaulting to user installation because normal site-packages is not writeable\n",
      "Collecting torch\n",
      "^C\n",
      "Note: you may need to restart the kernel to use updated packages.\n"
     ]
    },
    {
     "ename": "ImportError",
     "evalue": "\nAutoModelForSeq2SeqLM requires the PyTorch library but it was not found in your environment. Checkout the instructions on the\ninstallation page: https://pytorch.org/get-started/locally/ and follow the ones that match your environment.\nPlease note that you may need to restart your runtime after installation.\n",
     "output_type": "error",
     "traceback": [
      "\u001b[0;31m---------------------------------------------------------------------------\u001b[0m",
      "\u001b[0;31mImportError\u001b[0m                               Traceback (most recent call last)",
      "Cell \u001b[0;32mIn[11], line 6\u001b[0m\n\u001b[1;32m      3\u001b[0m \u001b[38;5;66;03m# Implementation using simple LLM\u001b[39;00m\n\u001b[1;32m      5\u001b[0m tokenizer \u001b[38;5;241m=\u001b[39m AutoTokenizer\u001b[38;5;241m.\u001b[39mfrom_pretrained(\u001b[38;5;124m\"\u001b[39m\u001b[38;5;124mgoogle/flan-t5-small\u001b[39m\u001b[38;5;124m\"\u001b[39m)\n\u001b[0;32m----> 6\u001b[0m model     \u001b[38;5;241m=\u001b[39m \u001b[43mAutoModelForSeq2SeqLM\u001b[49m\u001b[38;5;241;43m.\u001b[39;49m\u001b[43mfrom_pretrained\u001b[49m(\u001b[38;5;124m\"\u001b[39m\u001b[38;5;124mgoogle/flan-t5-small\u001b[39m\u001b[38;5;124m\"\u001b[39m)\n\u001b[1;32m      8\u001b[0m \u001b[38;5;28;01mdef\u001b[39;00m \u001b[38;5;21mllm_generate\u001b[39m(prompt: \u001b[38;5;28mstr\u001b[39m, max_length: \u001b[38;5;28mint\u001b[39m \u001b[38;5;241m=\u001b[39m \u001b[38;5;241m256\u001b[39m) \u001b[38;5;241m-\u001b[39m\u001b[38;5;241m>\u001b[39m \u001b[38;5;28mstr\u001b[39m:\n\u001b[1;32m      9\u001b[0m     inputs \u001b[38;5;241m=\u001b[39m tokenizer(prompt, return_tensors\u001b[38;5;241m=\u001b[39m\u001b[38;5;124m\"\u001b[39m\u001b[38;5;124mpt\u001b[39m\u001b[38;5;124m\"\u001b[39m)\u001b[38;5;241m.\u001b[39minput_ids\n",
      "File \u001b[0;32m~/.local/lib/python3.10/site-packages/transformers/utils/import_utils.py:1885\u001b[0m, in \u001b[0;36mDummyObject.__getattribute__\u001b[0;34m(cls, key)\u001b[0m\n\u001b[1;32m   1883\u001b[0m \u001b[38;5;28;01mif\u001b[39;00m (key\u001b[38;5;241m.\u001b[39mstartswith(\u001b[38;5;124m\"\u001b[39m\u001b[38;5;124m_\u001b[39m\u001b[38;5;124m\"\u001b[39m) \u001b[38;5;129;01mand\u001b[39;00m key \u001b[38;5;241m!=\u001b[39m \u001b[38;5;124m\"\u001b[39m\u001b[38;5;124m_from_config\u001b[39m\u001b[38;5;124m\"\u001b[39m) \u001b[38;5;129;01mor\u001b[39;00m key \u001b[38;5;241m==\u001b[39m \u001b[38;5;124m\"\u001b[39m\u001b[38;5;124mis_dummy\u001b[39m\u001b[38;5;124m\"\u001b[39m \u001b[38;5;129;01mor\u001b[39;00m key \u001b[38;5;241m==\u001b[39m \u001b[38;5;124m\"\u001b[39m\u001b[38;5;124mmro\u001b[39m\u001b[38;5;124m\"\u001b[39m \u001b[38;5;129;01mor\u001b[39;00m key \u001b[38;5;241m==\u001b[39m \u001b[38;5;124m\"\u001b[39m\u001b[38;5;124mcall\u001b[39m\u001b[38;5;124m\"\u001b[39m:\n\u001b[1;32m   1884\u001b[0m     \u001b[38;5;28;01mreturn\u001b[39;00m \u001b[38;5;28msuper\u001b[39m()\u001b[38;5;241m.\u001b[39m\u001b[38;5;21m__getattribute__\u001b[39m(key)\n\u001b[0;32m-> 1885\u001b[0m \u001b[43mrequires_backends\u001b[49m\u001b[43m(\u001b[49m\u001b[38;5;28;43mcls\u001b[39;49m\u001b[43m,\u001b[49m\u001b[43m \u001b[49m\u001b[38;5;28;43mcls\u001b[39;49m\u001b[38;5;241;43m.\u001b[39;49m\u001b[43m_backends\u001b[49m\u001b[43m)\u001b[49m\n",
      "File \u001b[0;32m~/.local/lib/python3.10/site-packages/transformers/utils/import_utils.py:1871\u001b[0m, in \u001b[0;36mrequires_backends\u001b[0;34m(obj, backends)\u001b[0m\n\u001b[1;32m   1868\u001b[0m         failed\u001b[38;5;241m.\u001b[39mappend(msg\u001b[38;5;241m.\u001b[39mformat(name))\n\u001b[1;32m   1870\u001b[0m \u001b[38;5;28;01mif\u001b[39;00m failed:\n\u001b[0;32m-> 1871\u001b[0m     \u001b[38;5;28;01mraise\u001b[39;00m \u001b[38;5;167;01mImportError\u001b[39;00m(\u001b[38;5;124m\"\u001b[39m\u001b[38;5;124m\"\u001b[39m\u001b[38;5;241m.\u001b[39mjoin(failed))\n",
      "\u001b[0;31mImportError\u001b[0m: \nAutoModelForSeq2SeqLM requires the PyTorch library but it was not found in your environment. Checkout the instructions on the\ninstallation page: https://pytorch.org/get-started/locally/ and follow the ones that match your environment.\nPlease note that you may need to restart your runtime after installation.\n"
     ]
    }
   ],
   "source": [
    "%pip install torch\n",
    "\n",
    "# Implementation using simple LLM\n",
    "\n",
    "tokenizer = AutoTokenizer.from_pretrained(\"google/flan-t5-small\")\n",
    "model     = AutoModelForSeq2SeqLM.from_pretrained(\"google/flan-t5-small\")\n",
    "\n",
    "def llm_generate(prompt: str, max_length: int = 256) -> str:\n",
    "    inputs = tokenizer(prompt, return_tensors=\"pt\").input_ids\n",
    "    outs = model.generate(\n",
    "        inputs, num_beams=4, early_stopping=True, max_length=max_length\n",
    "    )\n",
    "    return tokenizer.decode(outs[0], skip_special_tokens=True)\n",
    "\n",
    "def agent_process(text, reference_date=None):\n",
    "    \"\"\" Base de um Agente que infere deadlines aplicando regras legais ou simplesmente Língua Natural. Retorna a data em dicionário apto para JSON {'deadline': datetime} ou {'error':...}.\"\"\"\n",
    "\n",
    "    ref = reference_date or datetime.now()\n",
    "    \n",
    "    prompt = f\"\"\"\n",
    "You are a Portuguese legal deadline assistant. Determine the deadline for the request below using these rules:\n",
    "- \"Modelo 22\": due by {ref.year}-07-31\n",
    "- \"IES\": due by {ref.year}-04-15 if before, else {ref.year+1}-04-15\n",
    "- Otherwise infer via natural language (e.g. \"5 working days from now\").\n",
    "Reference date: {ref.strftime('%Y-%m-%d')}\n",
    "Input: \"{text}\"\n",
    "Return ONLY a JSON object with key \"deadline\" (ISO8601 date string).\n",
    "\"\"\"\n",
    "    prompt_with_examples = f\"\"\"\n",
    "You are a Portuguese legal deadline assistant. Determine the deadline for the request below using these rules:\n",
    "- \"Modelo 22\": due by {ref.year}-07-31\n",
    "- \"IES\": due by {ref.year}-04-15 if before, else {ref.year+1}-04-15\n",
    "- For other cases, identify the notification date if mentioned, and the number of working days or the specific legal procedure mentioned that implies a deadline calculation rule.\n",
    "Reference date: {ref.strftime('%Y-%m-%d')}\n",
    "\n",
    "Here are some examples:\n",
    "Input: \"Notificação recebida em 2024-01-15. Tem 10 dias úteis para responder.\"\n",
    "Output: {{\"notification_date\": \"2024-01-15\", \"days_to_reply\": 10}}\n",
    "\n",
    "Input: \"O prazo para contestar é de 20 dias a contar da citação.\"\n",
    "Output: {{\"days_to_reply\": 20, \"procedure_type\": \"contestacao\"}}\n",
    "\n",
    "Input: \"Modelo 22 - exercício 2023\"\n",
    "Output: {{\"deadline\": \"{ref.year}-07-31\"}}\n",
    "\n",
    "Input: \"{text}\"\n",
    "Return ONLY a JSON object with the keys \"deadline\" (ISO8601 date string) OR \"notification_date\" (ISO8601 date string) and \"days_to_reply\" (integer) OR \"procedure_type\" (string).\n",
    "\"\"\"\n",
    " \n",
    "    raw = llm_generate(prompt_with_examples)\n",
    "    \n",
    "    try:\n",
    "        obj = json.loads(raw)\n",
    "        d = dateparser.parse(obj['deadline'])\n",
    "        return {'deadline': d}\n",
    "    except Exception as e:\n",
    "        return {'error': f'LLM parse error: {e} | raw: {raw}'}"
   ]
  },
  {
   "cell_type": "code",
   "execution_count": null,
   "metadata": {},
   "outputs": [],
   "source": [
    "# Implementation using Gemini LLM\n",
    "\n",
    "def config_llm_gemini(temperature:int):\n",
    "  '''LLM api calling using Gemini  '''\n",
    "  # Steps for students:\n",
    "  # - Go to https://aistudio.google.com/app/apikey and generate your Gemini API key.\n",
    "  # - Add the necessary packages to your requirements.txt:\n",
    "  #    langchain\n",
    "  #    langchain-google-genai\n",
    "  # - Run the following command to install them:\n",
    "  #     !pip install -r requirements.txt\n",
    "  # - Follow the official integration guide for LangChain + Google Generative AI:\n",
    "  #     https://python.langchain.com/docs/integrations/chat/google_generative_ai/\n",
    "  # Pay attention to the request limits of the chosen model.\n",
    "  return \"llm\" #Should return the LLM response"
   ]
  },
  {
   "cell_type": "code",
   "execution_count": 4,
   "metadata": {},
   "outputs": [],
   "source": [
    "import re\n",
    "\n",
    "def process_deadline_from_image_or_text(input_data, is_image=True, base_date=None):\n",
    "    \"\"\"\n",
    "    Processa uma imagem (OCR) ou texto para identificar prazos legais, aplicando regras portuguesas.\n",
    "    Retorna um dicionário estruturado com data-limite, fonte, regra aplicada e confiança.\n",
    "    \"\"\"\n",
    "    # 1. OCR se for imagem\n",
    "    if is_image:\n",
    "        text = extract_text_from_image(input_data)\n",
    "        source = f\"OCR de {input_data}\"\n",
    "    else:\n",
    "        text = input_data\n",
    "        source = \"Texto fornecido\"\n",
    "\n",
    "    # 2. Limpeza básica do texto\n",
    "    clean_text = \" \".join(text.split())\n",
    "\n",
    "    # 3. Inferência de data-base\n",
    "    base = base_date or datetime.now()\n",
    "\n",
    "    # 4. Busca por datas explícitas e frases de prazo\n",
    "    prazo_inferido = infer_deadline(clean_text, base_date=base)\n",
    "\n",
    "    # 5. Busca por frases do tipo \"X dias úteis\"\n",
    "    match = re.search(r'(\\d+)\\s*dias?\\s*úteis?', clean_text, re.IGNORECASE)\n",
    "    if match:\n",
    "        dias_uteis = int(match.group(1))\n",
    "        # Busca data-base explícita\n",
    "        data_base_match = search_dates(clean_text, languages=['pt'], settings={'PREFER_DATES_FROM':'future','RELATIVE_BASE':base,'DATE_ORDER':'DMY'})\n",
    "        if data_base_match:\n",
    "            data_base = data_base_match[0][1]\n",
    "        else:\n",
    "            data_base = base\n",
    "        data_limite = add_working_days(data_base, dias_uteis)\n",
    "        regra = f\"{dias_uteis} dias úteis a partir de {data_base.strftime('%d/%m/%Y')}\"\n",
    "        confidence = 0.95\n",
    "    elif prazo_inferido:\n",
    "        data_limite = prazo_inferido\n",
    "        regra = \"Data explícita identificada\"\n",
    "        confidence = 0.8\n",
    "    else:\n",
    "        # fallback: usar LLM para tentar deduzir\n",
    "        agent_result = agent_process(clean_text, reference_date=base)\n",
    "        if 'deadline' in agent_result:\n",
    "            data_limite = agent_result['deadline']\n",
    "            regra = \"Inferido por LLM\"\n",
    "            confidence = 0.7\n",
    "        else:\n",
    "            data_limite = None\n",
    "            regra = \"Não identificado\"\n",
    "            confidence = 0.0\n",
    "\n",
    "    return {\n",
    "        \"data_limite\": data_limite.strftime('%Y-%m-%d') if data_limite else None,\n",
    "        \"fonte\": source,\n",
    "        \"regra\": regra,\n",
    "        \"confiança\": confidence,\n",
    "        \"texto\": clean_text\n",
    "    }\n"
   ]
  },
  {
   "cell_type": "markdown",
   "metadata": {},
   "source": [
    "### 🔗 Calendar integration (Opcional)\n",
    "Function to create events in external calendar tool"
   ]
  },
  {
   "cell_type": "code",
   "execution_count": null,
   "metadata": {},
   "outputs": [],
   "source": [
    "# def create_calendar_event(summary, start, end, timezone='UTC'):\n",
    "#     pass  # implementar conforme API desejada"
   ]
  },
  {
   "cell_type": "markdown",
   "metadata": {},
   "source": [
    "### 🧪 Use case examples"
   ]
  },
  {
   "cell_type": "code",
   "execution_count": null,
   "metadata": {},
   "outputs": [
    {
     "ename": "NameError",
     "evalue": "name 'agent_process' is not defined",
     "output_type": "error",
     "traceback": [
      "\u001b[0;31m---------------------------------------------------------------------------\u001b[0m",
      "\u001b[0;31mNameError\u001b[0m                                 Traceback (most recent call last)",
      "Cell \u001b[0;32mIn[1], line 6\u001b[0m\n\u001b[1;32m      1\u001b[0m \u001b[38;5;66;03m# Exemplo OCR:\u001b[39;00m\n\u001b[1;32m      2\u001b[0m \u001b[38;5;66;03m# img_text = extract_text_from_image('scan.png')\u001b[39;00m\n\u001b[1;32m      3\u001b[0m \u001b[38;5;66;03m# print(infer_deadline(img_text))\u001b[39;00m\n\u001b[1;32m      4\u001b[0m \n\u001b[1;32m      5\u001b[0m \u001b[38;5;66;03m# Exemplo agente:\u001b[39;00m\n\u001b[0;32m----> 6\u001b[0m \u001b[38;5;28mprint\u001b[39m(\u001b[43magent_process\u001b[49m(\u001b[38;5;124m'\u001b[39m\u001b[38;5;124mEntregar Modelo 22\u001b[39m\u001b[38;5;124m'\u001b[39m))\n\u001b[1;32m      7\u001b[0m \u001b[38;5;28mprint\u001b[39m(agent_process(\u001b[38;5;124m'\u001b[39m\u001b[38;5;124mEnviar IES até dia 15 de abril\u001b[39m\u001b[38;5;124m'\u001b[39m))\n\u001b[1;32m      9\u001b[0m \u001b[38;5;66;03m# Working days:\u001b[39;00m\n\u001b[1;32m     10\u001b[0m \u001b[38;5;66;03m# base = datetime(2025,5,27)\u001b[39;00m\n\u001b[1;32m     11\u001b[0m \u001b[38;5;66;03m# print(add_working_days(base,5))\u001b[39;00m\n",
      "\u001b[0;31mNameError\u001b[0m: name 'agent_process' is not defined"
     ]
    }
   ],
   "source": [
    "# Exemplo OCR:\n",
    "# img_text = extract_text_from_image('scan.png')\n",
    "# print(infer_deadline(img_text))\n",
    "\n",
    "# Exemplo agente:\n",
    "# print(agent_process('Entregar Modelo 22'))\n",
    "# print(agent_process('Enviar IES até dia 15 de abril'))\n",
    "\n",
    "# Working days:\n",
    "# base = datetime(2025,5,27)\n",
    "# print(add_working_days(base,5))"
   ]
  }
 ],
 "metadata": {
  "kernelspec": {
   "display_name": "Python 3",
   "language": "python",
   "name": "python3"
  },
  "language_info": {
   "codemirror_mode": {
    "name": "ipython",
    "version": 3
   },
   "file_extension": ".py",
   "mimetype": "text/x-python",
   "name": "python",
   "nbconvert_exporter": "python",
   "pygments_lexer": "ipython3",
   "version": "3.10.12"
  }
 },
 "nbformat": 4,
 "nbformat_minor": 0
}
