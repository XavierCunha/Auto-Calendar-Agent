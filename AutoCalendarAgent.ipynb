{
 "cells": [
  {
   "cell_type": "markdown",
   "metadata": {},
   "source": [
    "### 🧠 Deadline Manager Agent – EY AI Challenge\n",
    "\n",
    "Modular notebook: OCR, date parsing, working-days, LLM agent para prazos legais e integração opcional de calendário."
   ]
  },
  {
   "cell_type": "code",
   "execution_count": null,
   "metadata": {},
   "outputs": [],
   "source": [
    "# DEPENDENCIES: Some useful dependencies. Theu might not be necessary.\n",
    "!apt-get update && apt-get install -y tesseract-ocr\n",
    "!pip install --upgrade pytesseract PyPDF2 pillow dateparser python-dateutil holidays transformers huggingface_hub[hf_xet]"
   ]
  },
  {
   "cell_type": "code",
   "execution_count": 1,
   "metadata": {},
   "outputs": [],
   "source": [
    "# IMPORTS: Some useful libraries. They might not be necessary\n",
    "import os\n",
    "from datetime import datetime, timedelta\n",
    "from dateparser.search import search_dates\n",
    "import dateparser\n",
    "from dateutil.relativedelta import relativedelta\n",
    "import holidays\n",
    "import pytesseract\n",
    "from PIL import Image\n",
    "from PyPDF2 import PdfReader\n",
    "from transformers import AutoTokenizer, AutoModelForSeq2SeqLM"
   ]
  },
  {
   "cell_type": "code",
   "execution_count": null,
   "metadata": {},
   "outputs": [],
   "source": [
    "# ...existing code...\n",
    "def interpretar_obrigacao_fiscal(texto, ano_base=None):\n",
    "    \"\"\"Extrai mês do texto e retorna prazos fiscais típicos (IRS, TSU, IVA, DMR).\"\"\"\n",
    "    ano_base = ano_base or datetime.now().year\n",
    "    texto = texto.lower()\n",
    "\n",
    "    for mes_nome, mes_num in MESES_PT.items():\n",
    "        if (\n",
    "            f\"processar {mes_nome}\" in texto\n",
    "            or f\"referente a {mes_nome}\" in texto\n",
    "            or f\"dmr de {mes_nome}\" in texto  # NOVO PADRÃO\n",
    "        ):\n",
    "            # Cálculo do mês seguinte\n",
    "            mes_seg = mes_num + 1 if mes_num < 12 else 1\n",
    "            ano_seg = ano_base if mes_num < 12 else ano_base + 1\n",
    "            ano_iva = ano_base if mes_num + 2 <= 12 else ano_base + 1\n",
    "            mes_iva = (mes_num + 2 - 1) % 12 + 1\n",
    "\n",
    "            return {\n",
    "                \"irs\": date(ano_seg, mes_seg, 20),\n",
    "                \"tsu\": date(ano_seg, mes_seg, 20),\n",
    "                \"iva_entrega\": date(ano_iva, mes_iva, 10),\n",
    "                \"iva_pagamento\": date(ano_iva, mes_iva, 15),\n",
    "                \"mes_base\": mes_nome\n",
    "            }\n",
    "    return None\n",
    "# ...existing code..."
   ]
  },
  {
   "cell_type": "markdown",
   "metadata": {},
   "source": [
    "### 🖼️ OCR & PDF Extraction\n",
    "Functions to read text in images (Tesseract) and PDFs."
   ]
  },
  {
   "cell_type": "code",
   "execution_count": 2,
   "metadata": {},
   "outputs": [],
   "source": [
    "def extract_text_from_image(path):\n",
    "    \"\"\"Base da extração de texto a partir de uma imagem (em português).\"\"\"\n",
    "    return pytesseract.image_to_string(Image.open(path), lang='por')\n",
    "\n",
    "def extract_text_from_pdf(path):\n",
    "    \"\"\"Base da extração de texto de todas as páginas de um PDF.\"\"\"\n",
    "    rdr = PdfReader(path)\n",
    "    return \"\\n\".join(page.extract_text() or \"\" for page in rdr.pages)"
   ]
  },
  {
   "cell_type": "markdown",
   "metadata": {},
   "source": [
    "### 🧠 Data extraction (NLU)\n",
    "Extract the first future date from a free text like `dateparser.search.search_dates`."
   ]
  },
  {
   "cell_type": "code",
   "execution_count": 3,
   "metadata": {},
   "outputs": [],
   "source": [
    "def infer_deadline(text, base_date=None):\n",
    "    \"\"\"Base da identificação de uam data a partir de uma imagem.\"\"\"\n",
    "    base = base_date or datetime.now()\n",
    "    res = search_dates(\n",
    "        text,\n",
    "        languages=['pt','en'],\n",
    "        settings={\n",
    "            'PREFER_DATES_FROM':'future',\n",
    "            'RELATIVE_BASE':base,\n",
    "            'DATE_ORDER':'DMY'\n",
    "        }\n",
    "    )\n",
    "    return res[0][1] if res else None"
   ]
  },
  {
   "cell_type": "markdown",
   "metadata": {},
   "source": [
    "### 📅 Work days calculation (PT)\n",
    "Add work days to a date, excluding weekends and Portuguese holidays."
   ]
  },
  {
   "cell_type": "code",
   "execution_count": null,
   "metadata": {},
   "outputs": [],
   "source": [
    "def add_working_days(start_date, days):\n",
    "    \"\"\"Base de unção auxiliar para somar dias úteis a uma data, gerir férias judiciais, etc.\"\"\"\n",
    "    pt_hols = holidays.Portugal()\n",
    "    curr = start_date\n",
    "    added = 0\n",
    "    while added < days:\n",
    "        curr += relativedelta(days=1)\n",
    "        if curr.weekday() < 5 and curr not in pt_hols:\n",
    "            added += 1\n",
    "    return curr"
   ]
  },
  {
   "cell_type": "markdown",
   "metadata": {},
   "source": [
    "### 📅 Lógica fiscal (PT)\n",
    "Fiscal rules that may appear."
   ]
  },
  {
   "cell_type": "code",
   "execution_count": null,
   "metadata": {},
   "outputs": [],
   "source": [
    "def normalize_abbreviations(text):\n",
    "    \"\"\"Expands common fiscal abbreviations to facilitate LLM understanding.\"\"\"\n",
    "    substitutions = {\n",
    "        \"dmr\": \"declaração mensal de remunerações\",\n",
    "        \"iva\": \"imposto sobre o valor acrescentado\",\n",
    "        \"irs\": \"imposto sobre o rendimento das pessoas singulares\",\n",
    "        \"ies\": \"informação empresarial simplificada\",\n",
    "        \"tsu\": \"taxa social única\"\n",
    "    }\n",
    "    for abbr, full in substitutions.items():\n",
    "        text = re.sub(rf\"\\b{abbr}\\b\", full, text, flags=re.IGNORECASE)\n",
    "    return text\n",
    "\n",
    "def interpret_fiscal_obligation(text, base_year=None):\n",
    "    \"\"\"Extracts month from text and returns typical fiscal deadlines (IRS, TSU, IVA, DMR).\"\"\"\n",
    "    base_year = base_year or datetime.now().year\n",
    "    text = text.lower()\n",
    "\n",
    "    for month_name, month_num in MESES_PT.items():\n",
    "        patterns = [\n",
    "            f\"processar {month_name}\",\n",
    "            f\"referente a {month_name}\",\n",
    "            f\"dmr de {month_name}\",\n",
    "            f\"entregar dmr de {month_name}\",\n",
    "            f\"submeter dmr de {month_name}\",\n",
    "            f\"pagamento do dmr de {month_name}\",\n",
    "            f\"declaração de dmr do mês de {month_name}\",\n",
    "            f\"envio da dmr de {month_name}\",\n",
    "            f\"apresentação da dmr de {month_name}\",\n",
    "            f\"prazo para dmr de {month_name}\",\n",
    "            f\"liquidação do dmr de {month_name}\",\n",
    "            f\"preencher dmr de {month_name}\",\n",
    "        ]\n",
    "        if any(p in text for p in patterns):\n",
    "            # Next month calculation\n",
    "            next_month = month_num + 1 if month_num < 12 else 1\n",
    "            next_year = base_year if month_num < 12 else base_year + 1\n",
    "            iva_year = base_year if month_num + 2 <= 12 else base_year + 1\n",
    "            iva_month = (month_num + 2 - 1) % 12 + 1\n",
    "\n",
    "            return {\n",
    "                \"irs\": date(next_year, next_month, 20),\n",
    "                \"tsu\": date(next_year, next_month, 20),\n",
    "                \"iva_entrega\": date(iva_year, iva_month, 10),\n",
    "                \"iva_pagamento\": date(iva_year, iva_month, 15),\n",
    "                \"mes_base\": month_name\n",
    "            }\n",
    "    return None"
   ]
  },
  {
   "cell_type": "markdown",
   "metadata": {},
   "source": [
    "### 🤖 Deadline Agent (LLM Free)\n",
    "One type of open-source model (Flan-T5 small) to apply the following rules:\n",
    "- Modelo 22: up to 31/jul\n",
    "- IES: 15/apr (current and next year)\n",
    "- Others: infer via NLP"
   ]
  },
  {
   "cell_type": "code",
   "execution_count": null,
   "metadata": {},
   "outputs": [],
   "source": [
    "# Implementation using simple LLM\n",
    "\n",
    "tokenizer = AutoTokenizer.from_pretrained(\"google/flan-t5-small\")\n",
    "model     = AutoModelForSeq2SeqLM.from_pretrained(\"google/flan-t5-small\")\n",
    "\n",
    "def llm_generate(prompt: str, max_length: int = 256) -> str:\n",
    "    inputs = tokenizer(prompt, return_tensors=\"pt\").input_ids\n",
    "    outs = model.generate(\n",
    "        inputs, num_beams=4, early_stopping=True, max_length=max_length\n",
    "    )\n",
    "    return tokenizer.decode(outs[0], skip_special_tokens=True)\n",
    "\n",
    "def agent_process(text, reference_date=None):\n",
    "    \"\"\" Base de um Agente que infere deadlines aplicando regras legais ou simplesmente Língua Natural. Retorna a data em dicionário apto para JSON {'deadline': datetime} ou {'error':...}.\"\"\"\n",
    "\n",
    "    ref = reference_date or datetime.now()\n",
    "    \n",
    "    prompt = f\"\"\"\n",
    "You are a Portuguese legal deadline assistant. Determine the deadline for the request below using these rules:\n",
    "- \"Modelo 22\": due by {ref.year}-07-31\n",
    "- \"IES\": due by {ref.year}-04-15 if before, else {ref.year+1}-04-15\n",
    "- Otherwise infer via natural language (e.g. \"5 working days from now\").\n",
    "Reference date: {ref.strftime('%Y-%m-%d')}\n",
    "Input: \"{text}\"\n",
    "Return ONLY a JSON object with key \"deadline\" (ISO8601 date string).\n",
    "\"\"\"\n",
    "    prompt_with_examples = f\"\"\"\n",
    "You are a Portuguese legal deadline assistant. Determine the deadline for the request below using these rules:\n",
    "- \"Modelo 22\": due by {ref.year}-07-31\n",
    "- \"IES\": due by {ref.year}-04-15 if before, else {ref.year+1}-04-15\n",
    "- For other cases, identify the notification date if mentioned, and the number of working days or the specific legal procedure mentioned that implies a deadline calculation rule.\n",
    "Reference date: {ref.strftime('%Y-%m-%d')}\n",
    "\n",
    "Here are some examples:\n",
    "Input: \"Notificação recebida em 2024-01-15. Tem 10 dias úteis para responder.\"\n",
    "Output: {{\"notification_date\": \"2024-01-15\", \"days_to_reply\": 10}}\n",
    "\n",
    "Input: \"O prazo para contestar é de 20 dias a contar da citação.\"\n",
    "Output: {{\"days_to_reply\": 20, \"procedure_type\": \"contestacao\"}}\n",
    "\n",
    "Input: \"Modelo 22 - exercício 2023\"\n",
    "Output: {{\"deadline\": \"{ref.year}-07-31\"}}\n",
    "\n",
    "Input: \"{text}\"\n",
    "Return ONLY a JSON object with the keys \"deadline\" (ISO8601 date string) OR \"notification_date\" (ISO8601 date string) and \"days_to_reply\" (integer) OR \"procedure_type\" (string).\n",
    "\"\"\"\n",
    " \n",
    "    raw = llm_generate(prompt_with_examples)\n",
    "    \n",
    "    try:\n",
    "        obj = json.loads(raw)\n",
    "        d = dateparser.parse(obj['deadline'])\n",
    "        return {'deadline': d}\n",
    "    except Exception as e:\n",
    "        return {'error': f'LLM parse error: {e} | raw: {raw}'}"
   ]
  },
  {
   "cell_type": "code",
   "execution_count": null,
   "metadata": {},
   "outputs": [],
   "source": [
    "# Implementation using Gemini LLM\n",
    "\n",
    "def config_llm_gemini(temperature:int):\n",
    "  '''LLM api calling using Gemini  '''\n",
    "  # Steps for students:\n",
    "  # - Go to https://aistudio.google.com/app/apikey and generate your Gemini API key.\n",
    "  # - Add the necessary packages to your requirements.txt:\n",
    "  #    langchain\n",
    "  #    langchain-google-genai\n",
    "  # - Run the following command to install them:\n",
    "  #     !pip install -r requirements.txt\n",
    "  # - Follow the official integration guide for LangChain + Google Generative AI:\n",
    "  #     https://python.langchain.com/docs/integrations/chat/google_generative_ai/\n",
    "  # Pay attention to the request limits of the chosen model.\n",
    "  return \"llm\" #Should return the LLM response"
   ]
  },
  {
   "cell_type": "code",
   "execution_count": 4,
   "metadata": {},
   "outputs": [],
   "source": [
    "import re\n",
    "\n",
    "def process_deadline_from_image_or_text(input_data, is_image=True, base_date=None):\n",
    "    \"\"\"\n",
    "    Processa uma imagem (OCR) ou texto para identificar prazos legais, aplicando regras portuguesas.\n",
    "    Retorna um dicionário estruturado com data-limite, fonte, regra aplicada e confiança.\n",
    "    \"\"\"\n",
    "    # 1. OCR se for imagem\n",
    "    if is_image:\n",
    "        text = extract_text_from_image(input_data)\n",
    "        source = f\"OCR de {input_data}\"\n",
    "    else:\n",
    "        text = input_data\n",
    "        source = \"Texto fornecido\"\n",
    "\n",
    "    # 2. Limpeza básica do texto\n",
    "    clean_text = \" \".join(text.split())\n",
    "\n",
    "    # 3. Inferência de data-base\n",
    "    base = base_date or datetime.now()\n",
    "\n",
    "    # 4. Busca por datas explícitas e frases de prazo\n",
    "    prazo_inferido = infer_deadline(clean_text, base_date=base)\n",
    "\n",
    "    # 5. Busca por frases do tipo \"X dias úteis\"\n",
    "    match = re.search(r'(\\d+)\\s*dias?\\s*úteis?', clean_text, re.IGNORECASE)\n",
    "    if match:\n",
    "        dias_uteis = int(match.group(1))\n",
    "        # Busca data-base explícita\n",
    "        data_base_match = search_dates(clean_text, languages=['pt'], settings={'PREFER_DATES_FROM':'future','RELATIVE_BASE':base,'DATE_ORDER':'DMY'})\n",
    "        if data_base_match:\n",
    "            data_base = data_base_match[0][1]\n",
    "        else:\n",
    "            data_base = base\n",
    "        data_limite = add_working_days(data_base, dias_uteis)\n",
    "        regra = f\"{dias_uteis} dias úteis a partir de {data_base.strftime('%d/%m/%Y')}\"\n",
    "        confidence = 0.95\n",
    "    elif prazo_inferido:\n",
    "        data_limite = prazo_inferido\n",
    "        regra = \"Data explícita identificada\"\n",
    "        confidence = 0.8\n",
    "    else:\n",
    "        # fallback: usar LLM para tentar deduzir\n",
    "        agent_result = agent_process(clean_text, reference_date=base)\n",
    "        if 'deadline' in agent_result:\n",
    "            data_limite = agent_result['deadline']\n",
    "            regra = \"Inferido por LLM\"\n",
    "            confidence = 0.7\n",
    "        else:\n",
    "            data_limite = None\n",
    "            regra = \"Não identificado\"\n",
    "            confidence = 0.0\n",
    "\n",
    "    return {\n",
    "        \"data_limite\": data_limite.strftime('%Y-%m-%d') if data_limite else None,\n",
    "        \"fonte\": source,\n",
    "        \"regra\": regra,\n",
    "        \"confiança\": confidence,\n",
    "        \"texto\": clean_text\n",
    "    }\n"
   ]
  },
  {
   "cell_type": "markdown",
   "metadata": {},
   "source": [
    "### 🔗 Calendar integration (Opcional)\n",
    "Function to create events in external calendar tool"
   ]
  },
  {
   "cell_type": "code",
   "execution_count": null,
   "metadata": {},
   "outputs": [],
   "source": [
    "# def create_calendar_event(summary, start, end, timezone='UTC'):\n",
    "#     pass  # implementar conforme API desejada"
   ]
  },
  {
   "cell_type": "markdown",
   "metadata": {},
   "source": [
    "### 🧪 Use case examples"
   ]
  },
  {
   "cell_type": "code",
   "execution_count": null,
   "metadata": {},
   "outputs": [],
   "source": [
    "# Exemplo OCR:\n",
    "# img_text = extract_text_from_image('scan.png')\n",
    "# print(infer_deadline(img_text))\n",
    "\n",
    "# Exemplo agente:\n",
    "# print(agent_process('Entregar Modelo 22'))\n",
    "# print(agent_process('Enviar IES até dia 15 de abril'))\n",
    "\n",
    "# Working days:\n",
    "# base = datetime(2025,5,27)\n",
    "# print(add_working_days(base,5))"
   ]
  }
 ],
 "metadata": {
  "kernelspec": {
   "display_name": "Python 3",
   "language": "python",
   "name": "python3"
  },
  "language_info": {
   "codemirror_mode": {
    "name": "ipython",
    "version": 3
   },
   "file_extension": ".py",
   "mimetype": "text/x-python",
   "name": "python",
   "nbconvert_exporter": "python",
   "pygments_lexer": "ipython3",
   "version": "3.12.8"
  }
 },
 "nbformat": 4,
 "nbformat_minor": 0
}
